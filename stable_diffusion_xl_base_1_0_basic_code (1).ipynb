{
  "cells": [
    {
      "cell_type": "code",
      "execution_count": null,
      "metadata": {
        "id": "M5wzgdfLvKti"
      },
      "outputs": [],
      "source": [
        "!pip install diffusers --upgrade"
      ]
    },
    {
      "cell_type": "code",
      "execution_count": null,
      "metadata": {
        "id": "UcJ-vb8vvWK0"
      },
      "outputs": [],
      "source": [
        "!pip install invisible_watermark transformers accelerate safetensors"
      ]
    },
    {
      "cell_type": "code",
      "execution_count": null,
      "metadata": {
        "id": "g0e-SrNYwcrX"
      },
      "outputs": [],
      "source": [
        "!pip install --upgrade accelerate"
      ]
    },
    {
      "cell_type": "code",
      "execution_count": null,
      "metadata": {
        "id": "tOmzM-Oyvaax"
      },
      "outputs": [],
      "source": [
        "from diffusers import DiffusionPipeline\n",
        "import torch\n",
        "\n",
        "pipe = DiffusionPipeline.from_pretrained(\"stabilityai/stable-diffusion-xl-base-1.0\", torch_dtype=torch.float16, use_safetensors=True, variant=\"fp16\")\n",
        "pipe.to(\"cuda\")\n",
        "\n",
        "# if using torch < 2.0\n",
        "# pipe.enable_xformers_memory_efficient_attention()\n",
        "\n",
        "prompt = \"An astronaut riding a green horse\"\n",
        "\n",
        "images = pipe(prompt=prompt).images[0]\n"
      ]
    },
    {
      "cell_type": "code",
      "execution_count": null,
      "metadata": {
        "id": "oXnq-xsbzFSB"
      },
      "outputs": [],
      "source": [
        "#画像の表示\n",
        "\n",
        "from IPython.display import Image, display\n",
        "\n",
        "display(images)"
      ]
    },
    {
      "cell_type": "code",
      "source": [
        "# 画像を保存するファイルパスを指定\n",
        "file_path = 'generated_image.png'\n",
        "\n",
        "# 画像を保存\n",
        "images.save(file_path)\n"
      ],
      "metadata": {
        "id": "XCp4JVjx1Zjj"
      },
      "execution_count": 16,
      "outputs": []
    }
  ],
  "metadata": {
    "accelerator": "GPU",
    "colab": {
      "provenance": []
    },
    "kernelspec": {
      "display_name": "Python 3",
      "name": "python3"
    },
    "language_info": {
      "name": "python"
    }
  },
  "nbformat": 4,
  "nbformat_minor": 0
}