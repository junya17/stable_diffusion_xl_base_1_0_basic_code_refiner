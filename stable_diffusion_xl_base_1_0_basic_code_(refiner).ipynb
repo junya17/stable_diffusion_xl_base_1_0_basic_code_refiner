{
  "cells": [
    {
      "cell_type": "code",
      "execution_count": null,
      "metadata": {
        "id": "M5wzgdfLvKti"
      },
      "outputs": [],
      "source": [
        "!pip install diffusers --upgrade"
      ]
    },
    {
      "cell_type": "code",
      "execution_count": null,
      "metadata": {
        "id": "UcJ-vb8vvWK0"
      },
      "outputs": [],
      "source": [
        "!pip install invisible_watermark transformers accelerate safetensors"
      ]
    },
    {
      "cell_type": "code",
      "execution_count": 3,
      "metadata": {
        "id": "g0e-SrNYwcrX"
      },
      "outputs": [],
      "source": [
        "!pip install --upgrade accelerate"
      ]
    },
    {
      "cell_type": "code",
      "execution_count": null,
      "metadata": {
        "id": "tOmzM-Oyvaax"
      },
      "outputs": [],
      "source": [
        "from diffusers import DiffusionPipeline\n",
        "import torch\n",
        "\n",
        "# load both base & refiner\n",
        "base = DiffusionPipeline.from_pretrained(\n",
        "    \"stabilityai/stable-diffusion-xl-base-1.0\", torch_dtype=torch.float16, variant=\"fp16\", use_safetensors=True\n",
        ")\n",
        "base.to(\"cuda\")\n",
        "refiner = DiffusionPipeline.from_pretrained(\n",
        "    \"stabilityai/stable-diffusion-xl-refiner-1.0\",\n",
        "    text_encoder_2=base.text_encoder_2,\n",
        "    vae=base.vae,\n",
        "    torch_dtype=torch.float16,\n",
        "    use_safetensors=True,\n",
        "    variant=\"fp16\",\n",
        ")\n",
        "refiner.to(\"cuda\")"
      ]
    },
    {
      "cell_type": "code",
      "source": [
        "# n_steps: Total number of steps in the image generation process.\n",
        "# This defines how many iterations the model will go through to refine the generated image.\n",
        "n_steps = 40\n",
        "\n",
        "# high_noise_frac: Fraction of the total steps dedicated to high noise processing.\n",
        "# A higher value means more steps are used in the initial, more random phase of image generation,\n",
        "# contributing to the overall structure and randomness of the image.\n",
        "high_noise_frac = 0.8\n",
        "\n",
        "prompt = \"A majestic lion jumping from a big stone at night\"\n",
        "\n",
        "# run both experts\n",
        "image = base(\n",
        "    prompt=prompt,\n",
        "    num_inference_steps=n_steps,\n",
        "    denoising_end=high_noise_frac,\n",
        "    output_type=\"latent\",\n",
        ").images\n",
        "image = refiner(\n",
        "    prompt=prompt,\n",
        "    num_inference_steps=n_steps,\n",
        "    denoising_start=high_noise_frac,\n",
        "    image=image,\n",
        ").images[0]"
      ],
      "metadata": {
        "id": "kp7khtbLnX73"
      },
      "execution_count": null,
      "outputs": []
    },
    {
      "cell_type": "code",
      "execution_count": null,
      "metadata": {
        "id": "oXnq-xsbzFSB"
      },
      "outputs": [],
      "source": [
        "# Show the image\n",
        "from IPython.display import Image, display\n",
        "\n",
        "# Display the image\n",
        "display(image)"
      ]
    },
    {
      "cell_type": "code",
      "source": [
        "# Specify the file path to save the image\n",
        "file_path = 'generated_image.png'\n",
        "\n",
        "# Save Image\n",
        "image.save(file_path)"
      ],
      "metadata": {
        "id": "XCp4JVjx1Zjj"
      },
      "execution_count": null,
      "outputs": []
    }
  ],
  "metadata": {
    "accelerator": "GPU",
    "colab": {
      "provenance": [],
      "gpuType": "T4"
    },
    "kernelspec": {
      "display_name": "Python 3",
      "name": "python3"
    },
    "language_info": {
      "name": "python"
    }
  },
  "nbformat": 4,
  "nbformat_minor": 0
}